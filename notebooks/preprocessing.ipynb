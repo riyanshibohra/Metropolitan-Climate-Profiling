{
 "cells": [
  {
   "cell_type": "markdown",
   "metadata": {},
   "source": [
    "### Import Libraries and Data"
   ]
  },
  {
   "cell_type": "code",
   "execution_count": 1,
   "metadata": {},
   "outputs": [
    {
     "name": "stdout",
     "output_type": "stream",
     "text": [
      "/Users/riyanshibohra/Documents/GitHub/metropolitan-climate-profiling/notebooks\n"
     ]
    }
   ],
   "source": [
    "# Basic imports\n",
    "\n",
    "import sys\n",
    "from pathlib import Path\n",
    "import os\n",
    "import warnings\n",
    "\n",
    "warnings.filterwarnings(\"ignore\")\n",
    "\n",
    "project_root = Path().resolve().parent\n",
    "sys.path.append(str(project_root))"
   ]
  },
  {
   "cell_type": "code",
   "execution_count": 2,
   "metadata": {},
   "outputs": [
    {
     "name": "stdout",
     "output_type": "stream",
     "text": [
      "/Users/riyanshibohra/Documents/GitHub/metropolitan-climate-profiling\n"
     ]
    }
   ],
   "source": [
    "os.chdir('/Users/riyanshibohra/Documents/GitHub/metropolitan-climate-profiling')\n",
    "print(os.getcwd())  # Verify the change"
   ]
  },
  {
   "cell_type": "code",
   "execution_count": 4,
   "metadata": {},
   "outputs": [],
   "source": [
    "# Import necessary modules\n",
    "\n",
    "from scripts.data_loader import load_raw_dataset, save_dataset\n",
    "from scripts.preprocessing import (\n",
    "    convert_to_datetime,\n",
    "    filter_columns,\n",
    "    convert_numeric_columns,\n",
    "    impute_missing_values,\n",
    "    extract_time_features,\n",
    "    remove_outliers\n",
    ")"
   ]
  },
  {
   "cell_type": "code",
   "execution_count": 5,
   "metadata": {},
   "outputs": [],
   "source": [
    "# Define dataset paths\n",
    "data_folder = Path().resolve() / \"data\"\n",
    "dallas_path = data_folder / \"Dallas.csv\"\n",
    "arlington_path = data_folder / \"Arlington.csv\"\n",
    "denton_path = data_folder / \"Denton.csv\""
   ]
  },
  {
   "cell_type": "code",
   "execution_count": 6,
   "metadata": {},
   "outputs": [],
   "source": [
    "# Define columns of interest\n",
    "columns_of_interest = [\n",
    "    'DATE', 'HourlyDryBulbTemperature', 'HourlyWetBulbTemperature',\n",
    "    'HourlyDewPointTemperature', 'HourlyRelativeHumidity',\n",
    "    'HourlyPrecipitation', 'HourlySeaLevelPressure',\n",
    "    'HourlyStationPressure', 'HourlyWindSpeed', 'HourlyWindDirection'\n",
    "]"
   ]
  },
  {
   "cell_type": "code",
   "execution_count": 7,
   "metadata": {},
   "outputs": [
    {
     "name": "stdout",
     "output_type": "stream",
     "text": [
      "Loading raw datasets...\n"
     ]
    }
   ],
   "source": [
    "\n",
    "# Load raw datasets\n",
    "print(\"Loading raw datasets...\")\n",
    "dallas = load_raw_dataset(dallas_path, columns_of_interest, date_column='DATE')\n",
    "arlington = load_raw_dataset(arlington_path, columns_of_interest, date_column='DATE')\n",
    "denton = load_raw_dataset(denton_path, columns_of_interest, date_column='DATE')"
   ]
  },
  {
   "cell_type": "markdown",
   "metadata": {},
   "source": [
    "### Data Cleaning and Transformation\n"
   ]
  },
  {
   "cell_type": "code",
   "execution_count": 8,
   "metadata": {},
   "outputs": [
    {
     "name": "stdout",
     "output_type": "stream",
     "text": [
      "Converting numeric columns...\n"
     ]
    }
   ],
   "source": [
    "# Convert numeric columns\n",
    "print(\"Converting numeric columns...\")\n",
    "columns_to_convert = columns_of_interest[1:]  # Exclude 'DATE'\n",
    "dallas = convert_numeric_columns(dallas, columns_to_convert)\n",
    "arlington = convert_numeric_columns(arlington, columns_to_convert)\n",
    "denton = convert_numeric_columns(denton, columns_to_convert)"
   ]
  },
  {
   "cell_type": "code",
   "execution_count": 9,
   "metadata": {},
   "outputs": [
    {
     "name": "stdout",
     "output_type": "stream",
     "text": [
      "Imputing missing values...\n"
     ]
    }
   ],
   "source": [
    "# Impute missing values\n",
    "print(\"Imputing missing values...\")\n",
    "dallas = impute_missing_values(dallas, columns_to_convert)\n",
    "arlington = impute_missing_values(arlington, columns_to_convert)\n",
    "denton = impute_missing_values(denton, columns_to_convert)"
   ]
  },
  {
   "cell_type": "code",
   "execution_count": 10,
   "metadata": {},
   "outputs": [
    {
     "name": "stdout",
     "output_type": "stream",
     "text": [
      "Extracting time-based features...\n"
     ]
    }
   ],
   "source": [
    "# Extract time-based features\n",
    "print(\"Extracting time-based features...\")\n",
    "dallas = extract_time_features(dallas, date_column='DATE')\n",
    "arlington = extract_time_features(arlington, date_column='DATE')\n",
    "denton = extract_time_features(denton, date_column='DATE')"
   ]
  },
  {
   "cell_type": "code",
   "execution_count": 11,
   "metadata": {},
   "outputs": [
    {
     "name": "stdout",
     "output_type": "stream",
     "text": [
      "Removing outliers...\n"
     ]
    }
   ],
   "source": [
    "\n",
    "# Remove outliers\n",
    "print(\"Removing outliers...\")\n",
    "dallas = remove_outliers(dallas, column='HourlyDryBulbTemperature')\n",
    "arlington = remove_outliers(arlington, column='HourlyDryBulbTemperature')\n",
    "denton = remove_outliers(denton, column='HourlyDryBulbTemperature')"
   ]
  },
  {
   "cell_type": "markdown",
   "metadata": {},
   "source": [
    "### Data Export\n"
   ]
  },
  {
   "cell_type": "code",
   "execution_count": 12,
   "metadata": {},
   "outputs": [
    {
     "name": "stdout",
     "output_type": "stream",
     "text": [
      "Saving processed datasets...\n"
     ]
    }
   ],
   "source": [
    "# Save processed data\n",
    "print(\"Saving processed datasets...\")\n",
    "save_dataset(dallas, data_folder / \"processed_dallas.csv\")\n",
    "save_dataset(arlington, data_folder / \"processed_arlington.csv\")\n",
    "save_dataset(denton, data_folder / \"processed_denton.csv\")"
   ]
  },
  {
   "cell_type": "markdown",
   "metadata": {},
   "source": [
    "### End of Notebook"
   ]
  },
  {
   "cell_type": "code",
   "execution_count": 13,
   "metadata": {},
   "outputs": [
    {
     "name": "stdout",
     "output_type": "stream",
     "text": [
      "Preprocessing complete!\n"
     ]
    }
   ],
   "source": [
    "print(\"Preprocessing complete!\")"
   ]
  }
 ],
 "metadata": {
  "kernelspec": {
   "display_name": "py39",
   "language": "python",
   "name": "python3"
  },
  "language_info": {
   "codemirror_mode": {
    "name": "ipython",
    "version": 3
   },
   "file_extension": ".py",
   "mimetype": "text/x-python",
   "name": "python",
   "nbconvert_exporter": "python",
   "pygments_lexer": "ipython3",
   "version": "3.9.20"
  }
 },
 "nbformat": 4,
 "nbformat_minor": 2
}
