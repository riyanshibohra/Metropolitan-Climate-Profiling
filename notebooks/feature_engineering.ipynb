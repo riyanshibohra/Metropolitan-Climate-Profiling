{
 "cells": [
  {
   "cell_type": "markdown",
   "metadata": {},
   "source": [
    "### Import Libraries and Data"
   ]
  },
  {
   "cell_type": "code",
   "execution_count": 1,
   "metadata": {},
   "outputs": [],
   "source": [
    "# Basic imports\n",
    "import sys\n",
    "from pathlib import Path\n",
    "import os\n",
    "import warnings\n",
    "\n",
    "warnings.filterwarnings(\"ignore\")\n",
    "\n",
    "project_root = Path().resolve().parent\n",
    "sys.path.append(str(project_root))"
   ]
  },
  {
   "cell_type": "code",
   "execution_count": 2,
   "metadata": {},
   "outputs": [
    {
     "name": "stdout",
     "output_type": "stream",
     "text": [
      "/Users/riyanshibohra/Documents/GitHub/metropolitan-climate-profiling\n"
     ]
    }
   ],
   "source": [
    "os.chdir('/Users/riyanshibohra/Documents/GitHub/metropolitan-climate-profiling')\n",
    "print(os.getcwd())  # Verify the change"
   ]
  },
  {
   "cell_type": "code",
   "execution_count": 3,
   "metadata": {},
   "outputs": [],
   "source": [
    "# Import libraries\n",
    "import pandas as pd\n",
    "from scripts.feature_engineering import (\n",
    "    calculate_seasonal_thresholds,\n",
    "    apply_uhi_classification,\n",
    ")\n",
    "from scripts.data_loader import load_processed_dataset, save_dataset"
   ]
  },
  {
   "cell_type": "code",
   "execution_count": 6,
   "metadata": {},
   "outputs": [],
   "source": [
    "# Define paths to processed data\n",
    "\n",
    "data_folder = Path().resolve() / \"data\"\n",
    "dallas_path = data_folder / \"processed_dallas.csv\"\n",
    "arlington_path = data_folder / \"processed_arlington.csv\"\n",
    "denton_path = data_folder / \"processed_denton.csv\""
   ]
  },
  {
   "cell_type": "code",
   "execution_count": 7,
   "metadata": {},
   "outputs": [],
   "source": [
    "dallas = load_processed_dataset(dallas_path)\n",
    "arlington = load_processed_dataset(arlington_path)\n",
    "denton = load_processed_dataset(denton_path)"
   ]
  },
  {
   "cell_type": "markdown",
   "metadata": {},
   "source": [
    "### Step 1: Calculate Seasonal Thresholds"
   ]
  },
  {
   "cell_type": "code",
   "execution_count": 9,
   "metadata": {},
   "outputs": [
    {
     "name": "stdout",
     "output_type": "stream",
     "text": [
      "Dallas Thresholds: {'HourlyDryBulbTemperature':         0.25  0.50  0.75\n",
      "Season                  \n",
      "Fall    56.0  69.0  78.0\n",
      "Spring  61.0  69.0  77.0\n",
      "Summer  80.0  86.0  94.0\n",
      "Winter  37.0  49.0  61.0, 'HourlyRelativeHumidity':         0.25  0.50   0.75\n",
      "Season                   \n",
      "Fall    47.0  63.0  83.00\n",
      "Spring  47.0  63.0  77.00\n",
      "Summer  40.0  55.0  68.75\n",
      "Winter  45.0  63.0  84.00, 'HourlyWindSpeed':         0.25  0.50  0.75\n",
      "Season                  \n",
      "Fall     5.0   7.0   9.0\n",
      "Spring   7.0  11.0  15.0\n",
      "Summer   6.0   8.0  10.0\n",
      "Winter   5.0   8.0  11.0}\n",
      "Arlington Thresholds: {'HourlyDryBulbTemperature':         0.25       0.50  0.75\n",
      "Season                       \n",
      "Fall    55.0  66.804656  76.0\n",
      "Spring  61.0  70.000000  77.0\n",
      "Summer  79.0  85.000000  93.0\n",
      "Winter  36.0  49.000000  62.0, 'HourlyRelativeHumidity':          0.25  0.50  0.75\n",
      "Season                   \n",
      "Fall    50.00  69.0  86.0\n",
      "Spring  47.50  64.0  79.0\n",
      "Summer  40.00  56.5  70.6\n",
      "Winter  46.75  66.0  85.0, 'HourlyWindSpeed':         0.25  0.50   0.75\n",
      "Season                   \n",
      "Fall     3.0   7.0  10.00\n",
      "Spring   7.0  11.0  16.00\n",
      "Summer   6.0   8.0  10.35\n",
      "Winter   5.0   8.0  13.00}\n",
      "Denton Thresholds: {'HourlyDryBulbTemperature':         0.25       0.50  0.75\n",
      "Season                       \n",
      "Fall    53.0  65.040031  75.0\n",
      "Spring  58.0  67.000000  76.0\n",
      "Summer  78.0  85.000000  93.0\n",
      "Winter  32.0  47.000000  59.0, 'HourlyRelativeHumidity':         0.25  0.50  0.75\n",
      "Season                  \n",
      "Fall    51.0  72.0  90.0\n",
      "Spring  50.0  67.0  81.0\n",
      "Summer  41.0  58.5  74.0\n",
      "Winter  50.0  70.0  86.0, 'HourlyWindSpeed':         0.25  0.50  0.75\n",
      "Season                  \n",
      "Fall     5.0   8.0  10.0\n",
      "Spring   7.0  13.0  17.0\n",
      "Summer   6.0   8.0  11.0\n",
      "Winter   5.0   8.0  13.0}\n"
     ]
    }
   ],
   "source": [
    "# Columns to calculate thresholds for\n",
    "columns_to_threshold = ['HourlyDryBulbTemperature', 'HourlyRelativeHumidity', 'HourlyWindSpeed']\n",
    "\n",
    "# Calculate thresholds for each city\n",
    "dallas_thresholds = calculate_seasonal_thresholds(dallas, columns_to_threshold)\n",
    "arlington_thresholds = calculate_seasonal_thresholds(arlington, columns_to_threshold)\n",
    "denton_thresholds = calculate_seasonal_thresholds(denton, columns_to_threshold)\n",
    "\n",
    "# Print thresholds for verification\n",
    "print(\"Dallas Thresholds:\", dallas_thresholds)\n",
    "print(\"Arlington Thresholds:\", arlington_thresholds)\n",
    "print(\"Denton Thresholds:\", denton_thresholds)"
   ]
  },
  {
   "cell_type": "markdown",
   "metadata": {},
   "source": [
    "### Step 2: Apply UHI Classification"
   ]
  },
  {
   "cell_type": "code",
   "execution_count": 12,
   "metadata": {},
   "outputs": [
    {
     "name": "stdout",
     "output_type": "stream",
     "text": [
      "Dallas UHI Intensity Counts:\n",
      " Medium    7520\n",
      "Low       2751\n",
      "High       247\n",
      "Name: UHI Intensity, dtype: int64\n",
      "Arlington UHI Intensity Counts:\n",
      " Medium    7926\n",
      "Low       2833\n",
      "High       163\n",
      "Name: UHI Intensity, dtype: int64\n",
      "Denton UHI Intensity Counts:\n",
      " Medium    7769\n",
      "Low       2849\n",
      "High       190\n",
      "Name: UHI Intensity, dtype: int64\n"
     ]
    }
   ],
   "source": [
    "# Apply UHI classification\n",
    "dallas = apply_uhi_classification(dallas, dallas_thresholds)\n",
    "arlington = apply_uhi_classification(arlington, arlington_thresholds)\n",
    "denton = apply_uhi_classification(denton, denton_thresholds)\n",
    "\n",
    "# Display UHI Intensity counts\n",
    "print(\"Dallas UHI Intensity Counts:\\n\", dallas['UHI Intensity'].value_counts())\n",
    "print(\"Arlington UHI Intensity Counts:\\n\", arlington['UHI Intensity'].value_counts())\n",
    "print(\"Denton UHI Intensity Counts:\\n\", denton['UHI Intensity'].value_counts())"
   ]
  },
  {
   "cell_type": "markdown",
   "metadata": {},
   "source": [
    "### Step 3: Save Enhanced Datasets"
   ]
  },
  {
   "cell_type": "code",
   "execution_count": 13,
   "metadata": {},
   "outputs": [],
   "source": [
    "# Save datasets with UHI classification\n",
    "save_dataset(dallas, f\"{data_folder}/enhanced_dallas_with_uhi.csv\")\n",
    "save_dataset(arlington, f\"{data_folder}/enhanced_arlington_with_uhi.csv\")\n",
    "save_dataset(denton, f\"{data_folder}/enhanced_denton_with_uhi.csv\")"
   ]
  },
  {
   "cell_type": "markdown",
   "metadata": {},
   "source": [
    "### Completion"
   ]
  },
  {
   "cell_type": "code",
   "execution_count": 14,
   "metadata": {},
   "outputs": [
    {
     "name": "stdout",
     "output_type": "stream",
     "text": [
      "Feature engineering and UHI classification completed successfully.\n"
     ]
    }
   ],
   "source": [
    "print(\"Feature engineering and UHI classification completed successfully.\")"
   ]
  }
 ],
 "metadata": {
  "kernelspec": {
   "display_name": "py39",
   "language": "python",
   "name": "python3"
  },
  "language_info": {
   "codemirror_mode": {
    "name": "ipython",
    "version": 3
   },
   "file_extension": ".py",
   "mimetype": "text/x-python",
   "name": "python",
   "nbconvert_exporter": "python",
   "pygments_lexer": "ipython3",
   "version": "3.9.20"
  }
 },
 "nbformat": 4,
 "nbformat_minor": 2
}
